{
 "cells": [
  {
   "cell_type": "markdown",
   "metadata": {},
   "source": [
    "## Ruoka, ilmasto ja pandemiariski"
   ]
  },
  {
   "cell_type": "markdown",
   "metadata": {},
   "source": [
    "**GFI** [Good food Institute](https://gfi.org/)\n",
    "\n",
    "Hyvää taustatietoa ruoantuotannon vaikutuksista ilmastoon, hiilidioksidipäästöihin, antibioottikuormitukseen ja sitä kautta antibioottiresistenssiin saat esimerkiksi kuuntelemalla Podcastin **Making Sense with Sam Harris \"244 - Food, Climate and Pandemic Risk**."
   ]
  },
  {
   "cell_type": "code",
   "execution_count": null,
   "metadata": {},
   "outputs": [],
   "source": []
  }
 ],
 "metadata": {
  "kernelspec": {
   "display_name": "Python 3",
   "language": "python",
   "name": "python3"
  },
  "language_info": {
   "codemirror_mode": {
    "name": "ipython",
    "version": 3
   },
   "file_extension": ".py",
   "mimetype": "text/x-python",
   "name": "python",
   "nbconvert_exporter": "python",
   "pygments_lexer": "ipython3",
   "version": "3.8.5"
  }
 },
 "nbformat": 4,
 "nbformat_minor": 4
}
